{
  "nbformat": 4,
  "nbformat_minor": 0,
  "metadata": {
    "colab": {
      "name": "Operational.ipynb",
      "provenance": [],
      "authorship_tag": "ABX9TyP9TBYG1M6mKrxHfthaDPXC",
      "include_colab_link": true
    },
    "kernelspec": {
      "name": "python3",
      "display_name": "Python 3"
    }
  },
  "cells": [
    {
      "cell_type": "markdown",
      "metadata": {
        "id": "view-in-github",
        "colab_type": "text"
      },
      "source": [
        "<a href=\"https://colab.research.google.com/github/anvilkinetics/hello-world/blob/master/Operational.ipynb\" target=\"_parent\"><img src=\"https://colab.research.google.com/assets/colab-badge.svg\" alt=\"Open In Colab\"/></a>"
      ]
    },
    {
      "cell_type": "markdown",
      "metadata": {
        "id": "x5gKcXFoIR02"
      },
      "source": [
        "**Connect, Mount and Update Colab**"
      ]
    },
    {
      "cell_type": "code",
      "metadata": {
        "id": "zNX9wOYXHiAQ",
        "outputId": "e669f44d-2e21-489b-930a-e023dad50181",
        "colab": {
          "base_uri": "https://localhost:8080/",
          "height": 34
        }
      },
      "source": [
        "from google.colab import drive\n",
        "from os.path import join\n",
        "\n",
        "ROOT = '/content/drive' # default for the drive\n",
        "PROJ = 'Colab/...'\n",
        "\n",
        "drive.mount(ROOT)\n",
        "\n",
        "PROJECT_PATH = join(ROOT, PROJ)\n"
      ],
      "execution_count": 1,
      "outputs": [
        {
          "output_type": "stream",
          "text": [
            "Mounted at /content/drive\n"
          ],
          "name": "stdout"
        }
      ]
    },
    {
      "cell_type": "code",
      "metadata": {
        "id": "Nb45OGZ2Jw2A"
      },
      "source": [
        "GIT_USERNAME = 'anvil.kinetics'\n",
        "GIT_TOKEN = 'XXX'\n",
        "GIT_REPOSITORY = 'YYY'\n",
        "\n",
        "GIT_PATH = "
      ],
      "execution_count": null,
      "outputs": []
    }
  ]
}