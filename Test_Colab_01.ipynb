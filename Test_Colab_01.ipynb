{
  "nbformat": 4,
  "nbformat_minor": 0,
  "metadata": {
    "colab": {
      "name": "Test Colab 01.ipynb",
      "provenance": [],
      "collapsed_sections": [],
      "authorship_tag": "ABX9TyNdgTcYpJP+P4+LvAy+IMr9",
      "include_colab_link": true
    },
    "kernelspec": {
      "name": "python3",
      "display_name": "Python 3"
    },
    "language_info": {
      "name": "python"
    }
  },
  "cells": [
    {
      "cell_type": "markdown",
      "metadata": {
        "id": "view-in-github",
        "colab_type": "text"
      },
      "source": [
        "<a href=\"https://colab.research.google.com/github/anvilkinetics/hello-world/blob/master/Test_Colab_01.ipynb\" target=\"_parent\"><img src=\"https://colab.research.google.com/assets/colab-badge.svg\" alt=\"Open In Colab\"/></a>"
      ]
    },
    {
      "cell_type": "markdown",
      "source": [
        "**Test Colab**\n",
        "\n",
        "This is a trial colab space. "
      ],
      "metadata": {
        "id": "Too4aSzKNfDl"
      }
    },
    {
      "cell_type": "code",
      "source": [
        "variable = \"Hello World\"\n",
        "variable"
      ],
      "metadata": {
        "colab": {
          "base_uri": "https://localhost:8080/",
          "height": 38
        },
        "id": "d_4mmaj-N0Oc",
        "outputId": "c9cbac30-6a78-4e04-b5f4-d2ff866f4f0b"
      },
      "execution_count": null,
      "outputs": [
        {
          "output_type": "execute_result",
          "data": {
            "text/plain": [
              "'Hello World'"
            ],
            "application/vnd.google.colaboratory.intrinsic+json": {
              "type": "string"
            }
          },
          "metadata": {},
          "execution_count": 2
        }
      ]
    },
    {
      "cell_type": "code",
      "source": [
        "a = 12345 / 12345\n",
        "a"
      ],
      "metadata": {
        "colab": {
          "base_uri": "https://localhost:8080/"
        },
        "id": "j1mjyOmkOpo9",
        "outputId": "ec555c32-afb5-494e-92eb-f0070faa476a"
      },
      "execution_count": null,
      "outputs": [
        {
          "output_type": "execute_result",
          "data": {
            "text/plain": [
              "1.0"
            ]
          },
          "metadata": {},
          "execution_count": 5
        }
      ]
    },
    {
      "cell_type": "markdown",
      "source": [
        "**Colab Shortcut on Ipad**\n",
        "\n",
        "*I'm currently trying out Colab shortcuts on the ipad.*\n"
      ],
      "metadata": {
        "id": "ZbU1KQS-SmqJ"
      }
    },
    {
      "cell_type": "code",
      "source": [
        "var_a = 2 ** 50"
      ],
      "metadata": {
        "id": "Ere0EzbETEf6"
      },
      "execution_count": null,
      "outputs": []
    },
    {
      "cell_type": "code",
      "source": [
        "var_a"
      ],
      "metadata": {
        "colab": {
          "base_uri": "https://localhost:8080/"
        },
        "id": "khFyVQzxWy_k",
        "outputId": "2098e429-011c-45b7-d293-ddf1d466b6c1"
      },
      "execution_count": null,
      "outputs": [
        {
          "output_type": "execute_result",
          "data": {
            "text/plain": [
              "1125899906842624"
            ]
          },
          "metadata": {},
          "execution_count": 13
        }
      ]
    },
    {
      "cell_type": "markdown",
      "source": [
        "**Colab Saved on Github**\n",
        "At this point, this ipynb should have been saved on Github repo"
      ],
      "metadata": {
        "id": "uXf67FiDXAc3"
      }
    }
  ]
}